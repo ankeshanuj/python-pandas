{
 "cells": [
  {
   "cell_type": "code",
   "execution_count": 1,
   "id": "e95a78bc",
   "metadata": {},
   "outputs": [
    {
     "data": {
      "text/html": [
       "<div>\n",
       "<style scoped>\n",
       "    .dataframe tbody tr th:only-of-type {\n",
       "        vertical-align: middle;\n",
       "    }\n",
       "\n",
       "    .dataframe tbody tr th {\n",
       "        vertical-align: top;\n",
       "    }\n",
       "\n",
       "    .dataframe thead th {\n",
       "        text-align: right;\n",
       "    }\n",
       "</style>\n",
       "<table border=\"1\" class=\"dataframe\">\n",
       "  <thead>\n",
       "    <tr style=\"text-align: right;\">\n",
       "      <th></th>\n",
       "      <th>Open</th>\n",
       "      <th>High</th>\n",
       "      <th>Low</th>\n",
       "      <th>Close</th>\n",
       "      <th>Volume</th>\n",
       "    </tr>\n",
       "  </thead>\n",
       "  <tbody>\n",
       "    <tr>\n",
       "      <th>0</th>\n",
       "      <td>145.960</td>\n",
       "      <td>148.00</td>\n",
       "      <td>145.650</td>\n",
       "      <td>147.81</td>\n",
       "      <td>65447450</td>\n",
       "    </tr>\n",
       "    <tr>\n",
       "      <th>1</th>\n",
       "      <td>148.210</td>\n",
       "      <td>149.13</td>\n",
       "      <td>146.610</td>\n",
       "      <td>148.31</td>\n",
       "      <td>71250420</td>\n",
       "    </tr>\n",
       "    <tr>\n",
       "      <th>2</th>\n",
       "      <td>141.395</td>\n",
       "      <td>148.72</td>\n",
       "      <td>140.550</td>\n",
       "      <td>148.03</td>\n",
       "      <td>111380900</td>\n",
       "    </tr>\n",
       "    <tr>\n",
       "      <th>3</th>\n",
       "      <td>144.290</td>\n",
       "      <td>144.81</td>\n",
       "      <td>140.355</td>\n",
       "      <td>141.17</td>\n",
       "      <td>83763800</td>\n",
       "    </tr>\n",
       "    <tr>\n",
       "      <th>4</th>\n",
       "      <td>145.140</td>\n",
       "      <td>146.64</td>\n",
       "      <td>143.380</td>\n",
       "      <td>144.22</td>\n",
       "      <td>69346520</td>\n",
       "    </tr>\n",
       "  </tbody>\n",
       "</table>\n",
       "</div>"
      ],
      "text/plain": [
       "      Open    High      Low   Close     Volume\n",
       "0  145.960  148.00  145.650  147.81   65447450\n",
       "1  148.210  149.13  146.610  148.31   71250420\n",
       "2  141.395  148.72  140.550  148.03  111380900\n",
       "3  144.290  144.81  140.355  141.17   83763800\n",
       "4  145.140  146.64  143.380  144.22   69346520"
      ]
     },
     "execution_count": 1,
     "metadata": {},
     "output_type": "execute_result"
    }
   ],
   "source": [
    "import pandas as pd \n",
    "df = pd.read_csv(\"appledata_01.csv\")\n",
    "df.head()"
   ]
  },
  {
   "cell_type": "code",
   "execution_count": 22,
   "id": "00ca7b12",
   "metadata": {},
   "outputs": [
    {
     "data": {
      "text/plain": [
       "DatetimeIndex(['2017-07-03', '2017-07-04', '2017-07-05', '2017-07-06',\n",
       "               '2017-07-07', '2017-07-10', '2017-07-11', '2017-07-12',\n",
       "               '2017-07-13', '2017-07-14', '2017-07-17', '2017-07-18',\n",
       "               '2017-07-19', '2017-07-20', '2017-07-21'],\n",
       "              dtype='datetime64[ns]', freq='B')"
      ]
     },
     "execution_count": 22,
     "metadata": {},
     "output_type": "execute_result"
    }
   ],
   "source": [
    "pd.date_range(start=\"2017/07/01\",end=\"2017/07/21\",freq='B')"
   ]
  },
  {
   "cell_type": "code",
   "execution_count": 13,
   "id": "b559086d",
   "metadata": {},
   "outputs": [
    {
     "data": {
      "text/plain": [
       "<CustomBusinessDay>"
      ]
     },
     "execution_count": 13,
     "metadata": {},
     "output_type": "execute_result"
    }
   ],
   "source": [
    "from pandas.tseries.holiday import USFederalHolidayCalendar\n",
    "from pandas.tseries.offsets import CustomBusinessDay\n",
    "\n",
    "usb = CustomBusinessDay(calendar=USFederalHolidayCalendar())\n",
    "usb"
   ]
  },
  {
   "cell_type": "code",
   "execution_count": 48,
   "id": "cc4bff3d",
   "metadata": {},
   "outputs": [
    {
     "data": {
      "text/plain": [
       "DatetimeIndex(['2017-01-03', '2017-01-04', '2017-01-05', '2017-01-06',\n",
       "               '2017-01-09', '2017-01-10', '2017-01-11', '2017-01-12',\n",
       "               '2017-01-13', '2017-01-17',\n",
       "               ...\n",
       "               '2018-01-02', '2018-01-03', '2018-01-04', '2018-01-05',\n",
       "               '2018-01-08', '2018-01-09', '2018-01-10', '2018-01-11',\n",
       "               '2018-01-12', '2018-01-16'],\n",
       "              dtype='datetime64[ns]', length=260, freq='C')"
      ]
     },
     "execution_count": 48,
     "metadata": {},
     "output_type": "execute_result"
    }
   ],
   "source": [
    "rng = pd.date_range(start=\"2017/01/01\",end=\"2018/01/16\", freq=usb)\n",
    "len(rng)\n",
    "rng"
   ]
  },
  {
   "cell_type": "code",
   "execution_count": 49,
   "id": "98356f4e",
   "metadata": {},
   "outputs": [
    {
     "data": {
      "text/html": [
       "<div>\n",
       "<style scoped>\n",
       "    .dataframe tbody tr th:only-of-type {\n",
       "        vertical-align: middle;\n",
       "    }\n",
       "\n",
       "    .dataframe tbody tr th {\n",
       "        vertical-align: top;\n",
       "    }\n",
       "\n",
       "    .dataframe thead th {\n",
       "        text-align: right;\n",
       "    }\n",
       "</style>\n",
       "<table border=\"1\" class=\"dataframe\">\n",
       "  <thead>\n",
       "    <tr style=\"text-align: right;\">\n",
       "      <th></th>\n",
       "      <th>Open</th>\n",
       "      <th>High</th>\n",
       "      <th>Low</th>\n",
       "      <th>Close</th>\n",
       "      <th>Volume</th>\n",
       "    </tr>\n",
       "  </thead>\n",
       "  <tbody>\n",
       "    <tr>\n",
       "      <th>2017-01-03</th>\n",
       "      <td>145.960</td>\n",
       "      <td>148.0000</td>\n",
       "      <td>145.6500</td>\n",
       "      <td>147.81</td>\n",
       "      <td>65447450</td>\n",
       "    </tr>\n",
       "    <tr>\n",
       "      <th>2017-01-04</th>\n",
       "      <td>148.210</td>\n",
       "      <td>149.1300</td>\n",
       "      <td>146.6100</td>\n",
       "      <td>148.31</td>\n",
       "      <td>71250420</td>\n",
       "    </tr>\n",
       "    <tr>\n",
       "      <th>2017-01-05</th>\n",
       "      <td>141.395</td>\n",
       "      <td>148.7200</td>\n",
       "      <td>140.5500</td>\n",
       "      <td>148.03</td>\n",
       "      <td>111380900</td>\n",
       "    </tr>\n",
       "    <tr>\n",
       "      <th>2017-01-06</th>\n",
       "      <td>144.290</td>\n",
       "      <td>144.8100</td>\n",
       "      <td>140.3550</td>\n",
       "      <td>141.17</td>\n",
       "      <td>83763800</td>\n",
       "    </tr>\n",
       "    <tr>\n",
       "      <th>2017-01-09</th>\n",
       "      <td>145.140</td>\n",
       "      <td>146.6400</td>\n",
       "      <td>143.3800</td>\n",
       "      <td>144.22</td>\n",
       "      <td>69346520</td>\n",
       "    </tr>\n",
       "    <tr>\n",
       "      <th>...</th>\n",
       "      <td>...</td>\n",
       "      <td>...</td>\n",
       "      <td>...</td>\n",
       "      <td>...</td>\n",
       "      <td>...</td>\n",
       "    </tr>\n",
       "    <tr>\n",
       "      <th>2018-01-09</th>\n",
       "      <td>172.700</td>\n",
       "      <td>175.3000</td>\n",
       "      <td>171.6400</td>\n",
       "      <td>172.00</td>\n",
       "      <td>96903960</td>\n",
       "    </tr>\n",
       "    <tr>\n",
       "      <th>2018-01-10</th>\n",
       "      <td>179.610</td>\n",
       "      <td>180.1700</td>\n",
       "      <td>174.6400</td>\n",
       "      <td>174.92</td>\n",
       "      <td>94537600</td>\n",
       "    </tr>\n",
       "    <tr>\n",
       "      <th>2018-01-11</th>\n",
       "      <td>172.860</td>\n",
       "      <td>173.9458</td>\n",
       "      <td>170.9500</td>\n",
       "      <td>171.66</td>\n",
       "      <td>77251200</td>\n",
       "    </tr>\n",
       "    <tr>\n",
       "      <th>2018-01-12</th>\n",
       "      <td>171.680</td>\n",
       "      <td>174.1000</td>\n",
       "      <td>170.6800</td>\n",
       "      <td>172.39</td>\n",
       "      <td>82465400</td>\n",
       "    </tr>\n",
       "    <tr>\n",
       "      <th>2018-01-16</th>\n",
       "      <td>152.215</td>\n",
       "      <td>153.5900</td>\n",
       "      <td>148.5613</td>\n",
       "      <td>150.04</td>\n",
       "      <td>89868330</td>\n",
       "    </tr>\n",
       "  </tbody>\n",
       "</table>\n",
       "<p>260 rows × 5 columns</p>\n",
       "</div>"
      ],
      "text/plain": [
       "               Open      High       Low   Close     Volume\n",
       "2017-01-03  145.960  148.0000  145.6500  147.81   65447450\n",
       "2017-01-04  148.210  149.1300  146.6100  148.31   71250420\n",
       "2017-01-05  141.395  148.7200  140.5500  148.03  111380900\n",
       "2017-01-06  144.290  144.8100  140.3550  141.17   83763800\n",
       "2017-01-09  145.140  146.6400  143.3800  144.22   69346520\n",
       "...             ...       ...       ...     ...        ...\n",
       "2018-01-09  172.700  175.3000  171.6400  172.00   96903960\n",
       "2018-01-10  179.610  180.1700  174.6400  174.92   94537600\n",
       "2018-01-11  172.860  173.9458  170.9500  171.66   77251200\n",
       "2018-01-12  171.680  174.1000  170.6800  172.39   82465400\n",
       "2018-01-16  152.215  153.5900  148.5613  150.04   89868330\n",
       "\n",
       "[260 rows x 5 columns]"
      ]
     },
     "execution_count": 49,
     "metadata": {},
     "output_type": "execute_result"
    }
   ],
   "source": [
    "df.set_index(rng, inplace=True)\n",
    "df"
   ]
  },
  {
   "cell_type": "code",
   "execution_count": 54,
   "id": "28ff84e4",
   "metadata": {},
   "outputs": [
    {
     "data": {
      "text/plain": [
       "<CustomBusinessDay>"
      ]
     },
     "execution_count": 54,
     "metadata": {},
     "output_type": "execute_result"
    }
   ],
   "source": [
    "from pandas.tseries.holiday import AbstractHolidayCalendar, nearest_workday, Holiday\n",
    "class myBirthDayCalendar(AbstractHolidayCalendar):\n",
    "    rules = [\n",
    "        Holiday('Dhaval\"s Birth Day', month=4, day=15)\n",
    "    ]\n",
    "nyc = CustomBusinessDay(calendar=myBirthDayCalendar())\n",
    "nyc"
   ]
  },
  {
   "cell_type": "code",
   "execution_count": 55,
   "id": "5ddf8773",
   "metadata": {},
   "outputs": [
    {
     "data": {
      "text/plain": [
       "DatetimeIndex(['2017-04-03', '2017-04-04', '2017-04-05', '2017-04-06',\n",
       "               '2017-04-07', '2017-04-10', '2017-04-11', '2017-04-12',\n",
       "               '2017-04-13', '2017-04-14', '2017-04-17', '2017-04-18',\n",
       "               '2017-04-19', '2017-04-20', '2017-04-21', '2017-04-24',\n",
       "               '2017-04-25', '2017-04-26', '2017-04-27', '2017-04-28'],\n",
       "              dtype='datetime64[ns]', freq='C')"
      ]
     },
     "execution_count": 55,
     "metadata": {},
     "output_type": "execute_result"
    }
   ],
   "source": [
    "pd.date_range(start=\"2017/04/01\",end=\"2017/04/30\", freq=nyc)"
   ]
  },
  {
   "cell_type": "code",
   "execution_count": 60,
   "id": "55205228",
   "metadata": {},
   "outputs": [
    {
     "ename": "SyntaxError",
     "evalue": "positional argument follows keyword argument (407237507.py, line 1)",
     "output_type": "error",
     "traceback": [
      "\u001b[1;36m  Cell \u001b[1;32mIn [60], line 1\u001b[1;36m\u001b[0m\n\u001b[1;33m    b = CustomBusinessDay(weekmask='Sun Mon Tue Wed Thu',holidays-[\"2017/07/04\"])\u001b[0m\n\u001b[1;37m                                                                                ^\u001b[0m\n\u001b[1;31mSyntaxError\u001b[0m\u001b[1;31m:\u001b[0m positional argument follows keyword argument\n"
     ]
    }
   ],
   "source": [
    "b = CustomBusinessDay(weekmask='Sun Mon Tue Wed Thu',holidays-[\"2017/07/04\"])\n",
    "pd.date_range(start=\"2017/04/01\", end=\"2017/04/30\", freq=b)"
   ]
  },
  {
   "cell_type": "code",
   "execution_count": null,
   "id": "828213de",
   "metadata": {},
   "outputs": [],
   "source": []
  }
 ],
 "metadata": {
  "kernelspec": {
   "display_name": "Python 3 (ipykernel)",
   "language": "python",
   "name": "python3"
  },
  "language_info": {
   "codemirror_mode": {
    "name": "ipython",
    "version": 3
   },
   "file_extension": ".py",
   "mimetype": "text/x-python",
   "name": "python",
   "nbconvert_exporter": "python",
   "pygments_lexer": "ipython3",
   "version": "3.10.7"
  }
 },
 "nbformat": 4,
 "nbformat_minor": 5
}
