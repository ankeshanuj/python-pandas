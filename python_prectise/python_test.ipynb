{
 "cells": [
  {
   "cell_type": "code",
   "execution_count": 1,
   "id": "b22ab7d6",
   "metadata": {},
   "outputs": [],
   "source": [
    "asdf=['ankesh','anuj','rishu','divyanshu','sonu','monu','ramesh','bittu','mohan','bhola']"
   ]
  },
  {
   "cell_type": "code",
   "execution_count": 2,
   "id": "5de1c97c",
   "metadata": {},
   "outputs": [
    {
     "data": {
      "text/plain": [
       "['ankesh', 'rishu', 'sonu', 'ramesh', 'mohan']"
      ]
     },
     "execution_count": 2,
     "metadata": {},
     "output_type": "execute_result"
    }
   ],
   "source": [
    "asdf[::2]"
   ]
  },
  {
   "cell_type": "code",
   "execution_count": 3,
   "id": "59ec3513",
   "metadata": {},
   "outputs": [],
   "source": [
    "qwer={\"ram\":1254,\"sohan\":4857,\"west\":6542,\"raka\":2648}"
   ]
  },
  {
   "cell_type": "code",
   "execution_count": 4,
   "id": "cf6aa151",
   "metadata": {},
   "outputs": [
    {
     "name": "stdout",
     "output_type": "stream",
     "text": [
      "4857 2648\n"
     ]
    }
   ],
   "source": [
    "print(qwer[\"sohan\"],qwer[\"raka\"])"
   ]
  },
  {
   "cell_type": "code",
   "execution_count": 5,
   "id": "119fc874",
   "metadata": {},
   "outputs": [
    {
     "name": "stdout",
     "output_type": "stream",
     "text": [
      "dict_keys(['ram', 'sohan', 'west', 'raka'])\n"
     ]
    }
   ],
   "source": [
    "print(qwer.keys())"
   ]
  },
  {
   "cell_type": "code",
   "execution_count": 7,
   "id": "992549ed",
   "metadata": {},
   "outputs": [
    {
     "name": "stdout",
     "output_type": "stream",
     "text": [
      "dict_values([1254, 4857, 6542, 2648])\n"
     ]
    }
   ],
   "source": [
    "print(qwer.values())"
   ]
  },
  {
   "cell_type": "code",
   "execution_count": 8,
   "id": "78a42f58",
   "metadata": {},
   "outputs": [],
   "source": [
    "ankesh=[123,456,789,741,852,963,357,951,148,862]"
   ]
  },
  {
   "cell_type": "code",
   "execution_count": 21,
   "id": "c30e0acf",
   "metadata": {},
   "outputs": [
    {
     "name": "stdout",
     "output_type": "stream",
     "text": [
      "[123, 148, 357, 456, 741, 789, 852, 862, 951, 963]\n"
     ]
    }
   ],
   "source": [
    "ankesh.sort()\n",
    "print(ankesh)"
   ]
  },
  {
   "cell_type": "code",
   "execution_count": 22,
   "id": "aed8b97d",
   "metadata": {},
   "outputs": [
    {
     "data": {
      "text/plain": [
       "[963, 951, 862, 852, 789, 741, 456, 357, 148, 123]"
      ]
     },
     "execution_count": 22,
     "metadata": {},
     "output_type": "execute_result"
    }
   ],
   "source": [
    "ankesh.reverse()\n",
    "ankesh"
   ]
  },
  {
   "cell_type": "code",
   "execution_count": null,
   "id": "3d289cb0",
   "metadata": {},
   "outputs": [],
   "source": []
  }
 ],
 "metadata": {
  "kernelspec": {
   "display_name": "Python 3 (ipykernel)",
   "language": "python",
   "name": "python3"
  },
  "language_info": {
   "codemirror_mode": {
    "name": "ipython",
    "version": 3
   },
   "file_extension": ".py",
   "mimetype": "text/x-python",
   "name": "python",
   "nbconvert_exporter": "python",
   "pygments_lexer": "ipython3",
   "version": "3.10.7"
  }
 },
 "nbformat": 4,
 "nbformat_minor": 5
}
